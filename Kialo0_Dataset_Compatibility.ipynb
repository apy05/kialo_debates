{
 "cells": [
  {
   "cell_type": "markdown",
   "id": "3d825525",
   "metadata": {},
   "source": [
    "# Kialo  0 - Transform Pickled Files of Kialo Debates to a Single Table\n",
    "\n",
    "## A. P. Young\n",
    "\n",
    "### 2022 April 13"
   ]
  },
  {
   "cell_type": "code",
   "execution_count": 1,
   "id": "682ac330",
   "metadata": {},
   "outputs": [
    {
     "name": "stdout",
     "output_type": "stream",
     "text": [
      "NetworkX version 1.10\n"
     ]
    }
   ],
   "source": [
    "import time\n",
    "START = time.time()\n",
    "import datetime\n",
    "from datetime import timedelta\n",
    "import os\n",
    "import pickle\n",
    "from tqdm import tqdm\n",
    "import networkx as nx\n",
    "print(\"NetworkX version\", nx.__version__)\n",
    "import pandas as pd\n",
    "from collections import Counter\n",
    "import numpy as np"
   ]
  },
  {
   "cell_type": "markdown",
   "id": "fba31848",
   "metadata": {},
   "source": [
    "# Introduction\n",
    "\n",
    "This notebook contains code to convert pickled files of [Kialo](https://www.kialo.com/) debates to a single `.csv` file with the same data. The reason for this notebook is because the files provided were pickled in NetworkX version 1.x, and the methods in NetworkX version 2.x do not work on the unpickled graphs due to version incompatibility. Working on a single `.csv` file overcomes this problem.\n",
    "\n",
    "**To run this notebook, we assume you have NetworkX 1.x** (see the version print out in the previous cell). Now do the following:\n",
    "\n",
    "  1. Go to https://netsys.surrey.ac.uk/datasets/graphnli/ (last accessed 13 April 2022).\n",
    "  \n",
    "  2. Fill out the form and request the dataset.\n",
    "  \n",
    "  3. Once the dataset request is approved, download and unzip the dataset. The folder's name is:"
   ]
  },
  {
   "cell_type": "code",
   "execution_count": 2,
   "id": "a3456053",
   "metadata": {},
   "outputs": [],
   "source": [
    "folder = './serializedGraphs/'"
   ]
  },
  {
   "cell_type": "markdown",
   "id": "06a94aa8",
   "metadata": {},
   "source": [
    "  4. Then run the notebook steps below, assuming that the folder is in the same directory as this notebook.\n",
    "  \n",
    "  5. The result is a `.csv` file, `kialo_debates.csv`, which you can use for downstream analysis, e.g. in online debate networks or NLP of the texts of the debates."
   ]
  },
  {
   "cell_type": "markdown",
   "id": "336248e9",
   "metadata": {},
   "source": [
    "## References\n",
    "\n",
    "If you find this notebook useful, please cite:\n",
    "\n",
    "  * Young, A.P., Joglekar, S., Boschi, G. and Sastry, N., 2021. **Ranking comment sorting policies in online debates**. Argument & Computation, 12(2), pp.265-285.\n",
    "\n",
    "Paper [here](https://content.iospress.com/articles/argument-and-computation/aac200909).\n",
    "\n",
    "Given you are working with the Kialo dataset, please also cite:\n",
    "\n",
    "  * Agarwal, V., Joglekar, S., Young, A.P. and Sastry, N., 2022. **GraphNLI: A Graph-based Natural Language Inference Model for Polarity Prediction in Online Debates**. arXiv preprint arXiv:2202.08175.\n",
    "\n",
    "Preprint [here](https://arxiv.org/abs/2202.08175), paper to appear at The ACM Web Conference 2022, end-April 2022 (please cite the conference paper after it has been published)."
   ]
  },
  {
   "cell_type": "markdown",
   "id": "c2c4c89f",
   "metadata": {},
   "source": [
    "# Unpickle the Files\n",
    "\n",
    "We unpickle the files."
   ]
  },
  {
   "cell_type": "code",
   "execution_count": 3,
   "id": "931c01a3",
   "metadata": {},
   "outputs": [],
   "source": [
    "def create_filepaths_excluding_hidden_files(directory_string):\n",
    "    \"\"\"\n",
    "    Input string that points to directory,\n",
    "    e.g. relative to this notebook\n",
    "    Output list of strings\n",
    "    i.e. names of directory's items and the filepath\n",
    "    Ignores any hidden files (see condition in list comprehension)\n",
    "    \"\"\"\n",
    "    return sorted([directory_string + item for item in os.listdir(directory_string) if not item.startswith('._')])"
   ]
  },
  {
   "cell_type": "markdown",
   "id": "c3cce468",
   "metadata": {},
   "source": [
    "First get the filepaths."
   ]
  },
  {
   "cell_type": "code",
   "execution_count": 4,
   "id": "178bd292",
   "metadata": {},
   "outputs": [],
   "source": [
    "filepaths = create_filepaths_excluding_hidden_files(folder)"
   ]
  },
  {
   "cell_type": "markdown",
   "id": "21def20a",
   "metadata": {},
   "source": [
    "Then unpickle the files."
   ]
  },
  {
   "cell_type": "code",
   "execution_count": 5,
   "id": "1137aa51",
   "metadata": {},
   "outputs": [],
   "source": [
    "def unpickle_file(filepath):\n",
    "    \"\"\"\n",
    "    Input filepath string of .pkl file\n",
    "    Output unpickled file\n",
    "    \"\"\"\n",
    "    with open(filepath, 'rb') as f:\n",
    "        answer = pickle.load(f)\n",
    "    return answer"
   ]
  },
  {
   "cell_type": "code",
   "execution_count": 6,
   "id": "abfc0243",
   "metadata": {},
   "outputs": [],
   "source": [
    "def unpickle_file_from_list_of_filepaths(list_of_filepaths):\n",
    "    \"\"\"\n",
    "    Input list of strings (filepaths)\n",
    "    Apply the preceding unpickle_file function to all items in the input list\n",
    "    \"\"\"\n",
    "    # progress bar\n",
    "    return [unpickle_file(item) for item in tqdm(list_of_filepaths)]"
   ]
  },
  {
   "cell_type": "code",
   "execution_count": 7,
   "id": "a7cec5b5",
   "metadata": {},
   "outputs": [
    {
     "name": "stderr",
     "output_type": "stream",
     "text": [
      "100%|██████████| 1560/1560 [00:09<00:00, 160.18it/s]\n"
     ]
    }
   ],
   "source": [
    "debates = unpickle_file_from_list_of_filepaths(filepaths)"
   ]
  },
  {
   "cell_type": "markdown",
   "id": "7ed3d8ed",
   "metadata": {},
   "source": [
    "# Get Graph Node and Edge Information\n",
    "\n",
    "Each pickled file is a NetworkX digraph, pickled in NetworkX version 1.x. The following methods follow the syntax of version 1.x. This is why this notebook assumes you have NetworkX 1.x.\n",
    "\n",
    "We first extract all nodes and their attributes into a list."
   ]
  },
  {
   "cell_type": "code",
   "execution_count": 8,
   "id": "b5558187",
   "metadata": {},
   "outputs": [],
   "source": [
    "def extract_all_nodes_with_date_into_list(mylist):\n",
    "    \"\"\"\n",
    "    Input list of nx graphs\n",
    "    Output list of pairs\n",
    "    - string node name\n",
    "    - node attributes dictionary\n",
    "    \"\"\"\n",
    "    answer = []\n",
    "    # progress bar\n",
    "    for item in tqdm(mylist):\n",
    "        answer += item.nodes(data = True)\n",
    "    return answer"
   ]
  },
  {
   "cell_type": "code",
   "execution_count": 9,
   "id": "881ec64a",
   "metadata": {},
   "outputs": [
    {
     "name": "stderr",
     "output_type": "stream",
     "text": [
      "100%|██████████| 1560/1560 [00:00<00:00, 3323.41it/s]\n"
     ]
    }
   ],
   "source": [
    "debate_nodes = extract_all_nodes_with_date_into_list(debates)"
   ]
  },
  {
   "cell_type": "markdown",
   "id": "cd951e6f",
   "metadata": {},
   "source": [
    "We do the same for the edges."
   ]
  },
  {
   "cell_type": "code",
   "execution_count": 10,
   "id": "45b986a7",
   "metadata": {},
   "outputs": [],
   "source": [
    "def extract_all_edges_with_date_into_list(mylist):\n",
    "    \"\"\"\n",
    "    Input list of nx graphs\n",
    "    Output list of triples\n",
    "    - string node name source node of edges\n",
    "    - string node name target node of edges\n",
    "    - dictionary of edge attributes\n",
    "    \"\"\"\n",
    "    answer = []\n",
    "    for item in tqdm(mylist):\n",
    "        answer += item.edges(data = True)\n",
    "    return answer"
   ]
  },
  {
   "cell_type": "code",
   "execution_count": 11,
   "id": "54ecf44a",
   "metadata": {},
   "outputs": [
    {
     "name": "stderr",
     "output_type": "stream",
     "text": [
      "100%|██████████| 1560/1560 [00:00<00:00, 2346.05it/s]\n"
     ]
    }
   ],
   "source": [
    "debate_edges = extract_all_edges_with_date_into_list(debates)"
   ]
  },
  {
   "cell_type": "markdown",
   "id": "efb66c26",
   "metadata": {},
   "source": [
    "# Merge Node and Edge Information into a Single Dataframe\n",
    "\n",
    "We turn each such list into a dataframe:"
   ]
  },
  {
   "cell_type": "code",
   "execution_count": 12,
   "id": "278f83f4",
   "metadata": {},
   "outputs": [],
   "source": [
    "def structure_list_of_nodes_or_edges_with_data_into_dataframe(mylist):\n",
    "    \"\"\"\n",
    "    Input a list of doubles (string, dict) or a list of triples (string1, string2, dict)\n",
    "    Output a dataframe with all of the dict keys as their separate columns\n",
    "    \"\"\"\n",
    "    answer = []\n",
    "    # progress bar\n",
    "    for item in tqdm(mylist):\n",
    "        # structure is either (a, mydict) or (a, b, mydict)\n",
    "        if len(item) == 2:\n",
    "            node_name = item[0]\n",
    "            myrow = item[-1]\n",
    "            myrow['source'] = node_name\n",
    "        if len(item) == 3:\n",
    "            source_node_name = item[0]\n",
    "            target_node_name = item[1]\n",
    "            myrow = item[-1]\n",
    "            myrow['source'] = source_node_name\n",
    "            myrow['target'] = target_node_name\n",
    "        answer.append(myrow)\n",
    "    return pd.DataFrame(answer)"
   ]
  },
  {
   "cell_type": "code",
   "execution_count": 13,
   "id": "9f76e66d",
   "metadata": {},
   "outputs": [
    {
     "name": "stderr",
     "output_type": "stream",
     "text": [
      "100%|██████████| 329013/329013 [00:00<00:00, 1042549.89it/s]\n"
     ]
    }
   ],
   "source": [
    "debate_nodes_df = structure_list_of_nodes_or_edges_with_data_into_dataframe(debate_nodes)"
   ]
  },
  {
   "cell_type": "code",
   "execution_count": 14,
   "id": "fe3ba5ba",
   "metadata": {},
   "outputs": [
    {
     "name": "stderr",
     "output_type": "stream",
     "text": [
      "100%|██████████| 327453/327453 [00:00<00:00, 905111.18it/s]\n"
     ]
    }
   ],
   "source": [
    "debate_edges_df = structure_list_of_nodes_or_edges_with_data_into_dataframe(debate_edges)"
   ]
  },
  {
   "cell_type": "markdown",
   "id": "9be9f726",
   "metadata": {},
   "source": [
    "We change the order of the columns (optional, for aesthetic reasons):"
   ]
  },
  {
   "cell_type": "code",
   "execution_count": 15,
   "id": "bb003711",
   "metadata": {},
   "outputs": [],
   "source": [
    "node_column_order = ['source',\n",
    "                     'author',\n",
    "                     'text',\n",
    "                     'created',\n",
    "                     'edited',\n",
    "                     'votes',\n",
    "                     'relation']"
   ]
  },
  {
   "cell_type": "code",
   "execution_count": 16,
   "id": "3dd4f2d9",
   "metadata": {},
   "outputs": [],
   "source": [
    "edge_column_order = ['source',\n",
    "                     'target',\n",
    "                     'weight']"
   ]
  },
  {
   "cell_type": "code",
   "execution_count": 17,
   "id": "194184f6",
   "metadata": {},
   "outputs": [],
   "source": [
    "debate_nodes_df = debate_nodes_df[node_column_order]"
   ]
  },
  {
   "cell_type": "code",
   "execution_count": 18,
   "id": "6fc5f4ba",
   "metadata": {},
   "outputs": [],
   "source": [
    "debate_edges_df = debate_edges_df[edge_column_order]"
   ]
  },
  {
   "cell_type": "markdown",
   "id": "d87e1a01",
   "metadata": {},
   "source": [
    "We then merge the edge information with the node information, resulting in a dataframe where each row is a (source) node, with also which (target) node it points to and any edge attributes."
   ]
  },
  {
   "cell_type": "code",
   "execution_count": 19,
   "id": "d1ab464b",
   "metadata": {},
   "outputs": [],
   "source": [
    "debates_df = pd.merge(debate_nodes_df, debate_edges_df, how = 'left', on = ['source'])"
   ]
  },
  {
   "cell_type": "code",
   "execution_count": 20,
   "id": "092940a9",
   "metadata": {},
   "outputs": [
    {
     "data": {
      "text/plain": [
       "(329013, 9)"
      ]
     },
     "execution_count": 20,
     "metadata": {},
     "output_type": "execute_result"
    }
   ],
   "source": [
    "debates_df.shape"
   ]
  },
  {
   "cell_type": "markdown",
   "id": "9e8a5876",
   "metadata": {},
   "source": [
    "For this dataframe, the `source` (node) column serves as an identifier for each row - this is verified below where every column value appears exactly once."
   ]
  },
  {
   "cell_type": "code",
   "execution_count": 21,
   "id": "9579e720",
   "metadata": {},
   "outputs": [
    {
     "data": {
      "text/plain": [
       "{1}"
      ]
     },
     "execution_count": 21,
     "metadata": {},
     "output_type": "execute_result"
    }
   ],
   "source": [
    "set(Counter(debates_df['source']).values())"
   ]
  },
  {
   "cell_type": "markdown",
   "id": "f467dda8",
   "metadata": {},
   "source": [
    "The merge of the edge information into the node information will have some nodes not be sources to edges. We define those targets to be string `-1` and their edge weights is zero."
   ]
  },
  {
   "cell_type": "code",
   "execution_count": 22,
   "id": "ded71d40",
   "metadata": {},
   "outputs": [],
   "source": [
    "debates_df['target'] = debates_df['target'].fillna('-1')"
   ]
  },
  {
   "cell_type": "code",
   "execution_count": 23,
   "id": "7e71277b",
   "metadata": {},
   "outputs": [],
   "source": [
    "debates_df['weight'] = debates_df['weight'].fillna(0.0)"
   ]
  },
  {
   "cell_type": "markdown",
   "id": "b18ce556",
   "metadata": {},
   "source": [
    "# Delete Redundant Feature - `relation`\n",
    "\n",
    "There is a column called `relation` which has the same information as the `weight` column, as shown by the following correlation matrix:"
   ]
  },
  {
   "cell_type": "code",
   "execution_count": 24,
   "id": "83047255",
   "metadata": {},
   "outputs": [
    {
     "data": {
      "text/html": [
       "<div>\n",
       "<style scoped>\n",
       "    .dataframe tbody tr th:only-of-type {\n",
       "        vertical-align: middle;\n",
       "    }\n",
       "\n",
       "    .dataframe tbody tr th {\n",
       "        vertical-align: top;\n",
       "    }\n",
       "\n",
       "    .dataframe thead th {\n",
       "        text-align: right;\n",
       "    }\n",
       "</style>\n",
       "<table border=\"1\" class=\"dataframe\">\n",
       "  <thead>\n",
       "    <tr style=\"text-align: right;\">\n",
       "      <th></th>\n",
       "      <th>relation</th>\n",
       "      <th>weight</th>\n",
       "    </tr>\n",
       "  </thead>\n",
       "  <tbody>\n",
       "    <tr>\n",
       "      <th>relation</th>\n",
       "      <td>1.0</td>\n",
       "      <td>1.0</td>\n",
       "    </tr>\n",
       "    <tr>\n",
       "      <th>weight</th>\n",
       "      <td>1.0</td>\n",
       "      <td>1.0</td>\n",
       "    </tr>\n",
       "  </tbody>\n",
       "</table>\n",
       "</div>"
      ],
      "text/plain": [
       "          relation  weight\n",
       "relation       1.0     1.0\n",
       "weight         1.0     1.0"
      ]
     },
     "execution_count": 24,
     "metadata": {},
     "output_type": "execute_result"
    }
   ],
   "source": [
    "debates_df[['relation', 'weight']].corr()"
   ]
  },
  {
   "cell_type": "markdown",
   "id": "b5781fc4",
   "metadata": {},
   "source": [
    "... and also the following counters of pairs of values. Notice the value $1$ matches with $1$, $-1$ matches with $-1$ and $0$ matches with $0$."
   ]
  },
  {
   "cell_type": "code",
   "execution_count": 25,
   "id": "aa331cd0",
   "metadata": {},
   "outputs": [
    {
     "data": {
      "text/plain": [
       "Counter({(1, 1.0): 139722, (-1, -1.0): 184651, (0, 0.0): 4640})"
      ]
     },
     "execution_count": 25,
     "metadata": {},
     "output_type": "execute_result"
    }
   ],
   "source": [
    "Counter(zip(debates_df['relation'], debates_df['weight']))"
   ]
  },
  {
   "cell_type": "markdown",
   "id": "7da55438",
   "metadata": {},
   "source": [
    "This means we are justified in dropping the `relation` column, because its information is already contained inthe `weight` column."
   ]
  },
  {
   "cell_type": "code",
   "execution_count": 26,
   "id": "cbd7885f",
   "metadata": {},
   "outputs": [],
   "source": [
    "debates_df = debates_df.drop(columns = 'relation')"
   ]
  },
  {
   "cell_type": "markdown",
   "id": "51945c49",
   "metadata": {},
   "source": [
    "We also change the values of the `weight` column into integers."
   ]
  },
  {
   "cell_type": "code",
   "execution_count": 27,
   "id": "d74ff79d",
   "metadata": {},
   "outputs": [],
   "source": [
    "debates_df['weight'] = debates_df['weight'].astype(int)"
   ]
  },
  {
   "cell_type": "markdown",
   "id": "0754684a",
   "metadata": {},
   "source": [
    "# Splitting the `votes` Column\n",
    "\n",
    "The `votes` column consists of a length-5 list of integers. This corresponds to the five categories in Kialo voting, where the numbers in each list position count the number of votes, and\n",
    "\n",
    "  0. Index `0` refers to the category \"This claim is false.\"\n",
    "  \n",
    "  1. Index `1` refers to the category \"This claim is improbable.\"\n",
    "  \n",
    "  2. Index `2` refers to the category \"This claim is plausible.\"\n",
    "  \n",
    "  3. Index `3` refers to the category \"This claim is probable.\"\n",
    "  \n",
    "  4. Index `4` refers to the category \"This claim is true.\"\n",
    "  \n",
    "See [here](https://www.kialo.com/the-existence-of-god-2629) for an example: click on the horizontal blue bar above the claim, and then the little icon on the upper left (with three vertical bars of ascending height).\n",
    "\n",
    "We split the `votes` column into five columns and rename them as `vote_category0`, `vote_category1`... etc."
   ]
  },
  {
   "cell_type": "code",
   "execution_count": 28,
   "id": "5225c84d",
   "metadata": {},
   "outputs": [],
   "source": [
    "votes_subdf = pd.DataFrame(list(debates_df['votes']))"
   ]
  },
  {
   "cell_type": "code",
   "execution_count": 29,
   "id": "8af6232b",
   "metadata": {},
   "outputs": [],
   "source": [
    "vote_column_names = []\n",
    "for index in range(5):\n",
    "    item = 'vote_category' + str(index)\n",
    "    vote_column_names.append(item)"
   ]
  },
  {
   "cell_type": "code",
   "execution_count": 30,
   "id": "ed83a1f5",
   "metadata": {},
   "outputs": [],
   "source": [
    "votes_subdf.columns = vote_column_names"
   ]
  },
  {
   "cell_type": "markdown",
   "id": "4892f5b7",
   "metadata": {},
   "source": [
    "We partition the original dataframe and insert the five `votes` columns in the middle."
   ]
  },
  {
   "cell_type": "code",
   "execution_count": 31,
   "id": "abb2218e",
   "metadata": {},
   "outputs": [],
   "source": [
    "votes_index = list(debates_df).index('votes')"
   ]
  },
  {
   "cell_type": "code",
   "execution_count": 32,
   "id": "e7371ee6",
   "metadata": {},
   "outputs": [],
   "source": [
    "df1 = debates_df[list(debates_df)[:votes_index]]"
   ]
  },
  {
   "cell_type": "code",
   "execution_count": 33,
   "id": "2b61a411",
   "metadata": {},
   "outputs": [],
   "source": [
    "df2 = debates_df[list(debates_df)[votes_index+1:]]"
   ]
  },
  {
   "cell_type": "code",
   "execution_count": 34,
   "id": "2aca49db",
   "metadata": {},
   "outputs": [],
   "source": [
    "debates_df = pd.concat([df1, votes_subdf, df2], axis = 1)"
   ]
  },
  {
   "cell_type": "code",
   "execution_count": 35,
   "id": "236573be",
   "metadata": {},
   "outputs": [
    {
     "data": {
      "text/plain": [
       "(329013, 12)"
      ]
     },
     "execution_count": 35,
     "metadata": {},
     "output_type": "execute_result"
    }
   ],
   "source": [
    "debates_df.shape"
   ]
  },
  {
   "cell_type": "markdown",
   "id": "f57a426d",
   "metadata": {},
   "source": [
    "# Fixing the `source` and `target` Names\n",
    "\n",
    "We replace the `.` in the `source` and `target` names with `_`. This is because once the `.csv` file is made at the end of this notebook and re-read back into a (different) notebook, `.` will result in `source` and `target` being interpreted as `float`, when they should be `str`."
   ]
  },
  {
   "cell_type": "code",
   "execution_count": 36,
   "id": "4fd22885",
   "metadata": {},
   "outputs": [],
   "source": [
    "for col in ['source', 'target']:\n",
    "    debates_df[col] = debates_df[col].str.replace('.', '_', regex = False)"
   ]
  },
  {
   "cell_type": "markdown",
   "id": "7cfd2eda",
   "metadata": {},
   "source": [
    "Note that all `target` values are also `source` values unless the target is undefined, i.e. when the source node has out degree zero."
   ]
  },
  {
   "cell_type": "code",
   "execution_count": 37,
   "id": "f9c57772",
   "metadata": {},
   "outputs": [
    {
     "data": {
      "text/plain": [
       "{'-1'}"
      ]
     },
     "execution_count": 37,
     "metadata": {},
     "output_type": "execute_result"
    }
   ],
   "source": [
    "set(debates_df['target']) - set(debates_df['source'])"
   ]
  },
  {
   "cell_type": "markdown",
   "id": "c78164de",
   "metadata": {},
   "source": [
    "# Output Dataframe as `.csv`\n",
    "\n",
    "We have thus cleaned the pickled files into a single table, which overcomes any NetworkX incompatibility issues, and allows for the debate structure to be reconstructed (by following `source` and `target` relations, where `weight` is an edge attribute and everything else is a node attribute).\n",
    "\n",
    "We output the dataframe into a single `csv` file."
   ]
  },
  {
   "cell_type": "code",
   "execution_count": 38,
   "id": "62133b7e",
   "metadata": {},
   "outputs": [],
   "source": [
    "debates_df.to_csv('kialo_debates.csv', index = False)"
   ]
  },
  {
   "cell_type": "markdown",
   "id": "cc17bd5e",
   "metadata": {},
   "source": [
    "# Conclusions\n",
    "\n",
    "This notebook has cleaned a series of pickled Kialo debates (NetworkX directed graphs) into a single table for downstream analysis, from which the debate structure can be reconstructed, while also overcoming any version incompatibilities from NetworkX."
   ]
  },
  {
   "cell_type": "code",
   "execution_count": 39,
   "id": "1c7976fc",
   "metadata": {},
   "outputs": [
    {
     "data": {
      "text/plain": [
       "'Notebook done in 0:00:24.498014.'"
      ]
     },
     "execution_count": 39,
     "metadata": {},
     "output_type": "execute_result"
    }
   ],
   "source": [
    "\"Notebook done in \" + str(timedelta(seconds = time.time() - START)) + '.'"
   ]
  }
 ],
 "metadata": {
  "kernelspec": {
   "display_name": "Python 3",
   "language": "python",
   "name": "python3"
  },
  "language_info": {
   "codemirror_mode": {
    "name": "ipython",
    "version": 3
   },
   "file_extension": ".py",
   "mimetype": "text/x-python",
   "name": "python",
   "nbconvert_exporter": "python",
   "pygments_lexer": "ipython3",
   "version": "3.7.1"
  }
 },
 "nbformat": 4,
 "nbformat_minor": 5
}
