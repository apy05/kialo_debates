{
 "cells": [
  {
   "cell_type": "markdown",
   "id": "b5f51aef",
   "metadata": {},
   "source": [
    "# Kialo 0 - Repickle `.csv` File into Folder of NetworkX Digraphs\n",
    "\n",
    "## A. P. Young\n",
    "\n",
    "### 2022 May 1"
   ]
  },
  {
   "cell_type": "code",
   "execution_count": 1,
   "id": "64b9a3c4",
   "metadata": {},
   "outputs": [],
   "source": [
    "import time\n",
    "START = time.time()\n",
    "import datetime\n",
    "from datetime import timedelta\n",
    "import pandas as pd\n",
    "import networkx as nx\n",
    "from collections import Counter\n",
    "from tqdm import tqdm"
   ]
  },
  {
   "cell_type": "markdown",
   "id": "9b46dcac",
   "metadata": {},
   "source": [
    "# Introduction\n",
    "\n",
    "This notebook takes the single `.csv` file of Kialo debates, called `kialo_debates.csv`, that was output from the [previous notebook](https://github.com/apy05/kialo_debates/blob/main/Kialo0_Dataset_Compatibility.ipynb) and repickles the files to networks that are compatible with NetworkX `2.x`.\n",
    "\n",
    "**Steps**\n",
    "\n",
    "  1. Go to https://netsys.surrey.ac.uk/datasets/graphnli/ (last accessed 1 May 2022).\n",
    "  \n",
    "  2. Fill out the form and request the dataset.\n",
    "\n",
    "  3. Once the dataset request is approved, download and unzip the dataset.\n",
    "  \n",
    "  4. Run the [previous notebook](https://github.com/apy05/kialo_debates/blob/main/Kialo0_Dataset_Compatibility.ipynb) to obtain the `.csv` file output.\n",
    "  \n",
    "We have NetworkX version `2.x` here:"
   ]
  },
  {
   "cell_type": "code",
   "execution_count": 2,
   "id": "939a2d70",
   "metadata": {},
   "outputs": [
    {
     "data": {
      "text/plain": [
       "'2.8'"
      ]
     },
     "execution_count": 2,
     "metadata": {},
     "output_type": "execute_result"
    }
   ],
   "source": [
    "nx.__version__"
   ]
  },
  {
   "cell_type": "markdown",
   "id": "0af1a3f1",
   "metadata": {},
   "source": [
    "## References\n",
    "\n",
    "If you find this notebook useful, please cite:\n",
    "\n",
    "  * Young, A.P., Joglekar, S., Boschi, G. and Sastry, N., 2021. Ranking comment sorting policies in online debates. Argument & Computation, 12(2), pp.265-285.\n",
    "\n",
    "Paper [here](https://content.iospress.com/articles/argument-and-computation/aac200909).\n",
    "\n",
    "Given you are working with the Kialo dataset, please also cite:\n",
    "\n",
    "  * Agarwal, V., Joglekar, S., Young, A.P. and Sastry, N., 2022. GraphNLI: A Graph-based Natural Language Inference Model for Polarity Prediction in Online Debates. Proceedings of the ACM Web Conference 2022, pp. 2729 - 2737.\n",
    "  \n",
    "Paper [here](https://dl.acm.org/doi/abs/10.1145/3485447.3512144)."
   ]
  },
  {
   "cell_type": "markdown",
   "id": "51f28656",
   "metadata": {},
   "source": [
    "# Get Data\n",
    "\n",
    "We get the `.csv` file:"
   ]
  },
  {
   "cell_type": "code",
   "execution_count": 3,
   "id": "d54e9e80",
   "metadata": {},
   "outputs": [],
   "source": [
    "data = pd.read_csv('kialo_debates.csv').fillna('')"
   ]
  },
  {
   "cell_type": "markdown",
   "id": "4eefbc2f",
   "metadata": {},
   "source": [
    "# Some Functions\n",
    "\n",
    "The following function inputs a dataframe of such debates and outputs a networkx digraph with all node and edge attributes."
   ]
  },
  {
   "cell_type": "code",
   "execution_count": 4,
   "id": "6708833e",
   "metadata": {},
   "outputs": [],
   "source": [
    "def dataframe_into_graph(mydf):\n",
    "    \"\"\"\n",
    "    Input dataframe of columns at least: source, target, weight\n",
    "    Output networkx digraph with all attributes\n",
    "    \"\"\"\n",
    "    # does not mutate argument\n",
    "    mydf2 = mydf.copy()\n",
    "    # sort by node index suffix\n",
    "    mydf2_indices = [int(item.split('_')[1]) for item in mydf2['source']]\n",
    "    mydf2.insert(0, 'source_index', mydf2_indices)\n",
    "    mydf2 = mydf2.sort_values(by = 'source_index')\n",
    "    mydf2 = mydf2.drop(columns = ['source_index'])\n",
    "    node_df = mydf2.drop(columns = ['target', 'weight'])\n",
    "    edge_df = mydf2[['source', 'target', 'weight']]\n",
    "    answer = nx.DiGraph()\n",
    "    # add node attributes\n",
    "    for rownum in range(node_df.shape[0]):\n",
    "        myrow = node_df.iloc[rownum]\n",
    "        source = myrow['source']\n",
    "        # ignore source\n",
    "        attributes = dict(myrow[1:])\n",
    "        answer.add_node(source, **attributes)\n",
    "    # add edge attributes\n",
    "    for rownum in range(edge_df.shape[0]):\n",
    "        myrow = edge_df.iloc[rownum]\n",
    "        source = myrow['source']\n",
    "        target = myrow['target']\n",
    "        if target != '-1':\n",
    "            attributes = dict(myrow[2:])\n",
    "            answer.add_edge(source, target, **attributes)\n",
    "    return answer"
   ]
  },
  {
   "cell_type": "markdown",
   "id": "fed457f1",
   "metadata": {},
   "source": [
    "The following function applies the above function to the dataframe which follows the syntax of node names, a string of the form `X_Y`, where `X` and `Y` are integers. Intuitively, nodes of the same prefix `X` belong to the same debate."
   ]
  },
  {
   "cell_type": "code",
   "execution_count": 5,
   "id": "6fa0ccf9",
   "metadata": {},
   "outputs": [],
   "source": [
    "def construct_list_of_digraphs(mydf):\n",
    "    \"\"\"\n",
    "    Input dataframe\n",
    "    Output list of digraphs\n",
    "    - nodes and edges as in the dataframe\n",
    "    - attributes all preserved\n",
    "    \"\"\"\n",
    "    answer = []\n",
    "    all_graph_indices = sorted(list(set([int(item.split('_')[0]) for item in list(mydf['source'])])))\n",
    "    # progress bar\n",
    "    for index in tqdm(all_graph_indices):\n",
    "        subdf = mydf[mydf['source'].str.startswith(str(index) + '_')]\n",
    "        digraph = dataframe_into_graph(subdf)\n",
    "        pair = (index, digraph)\n",
    "        answer.append(pair)\n",
    "    return answer"
   ]
  },
  {
   "cell_type": "markdown",
   "id": "9b334e62",
   "metadata": {},
   "source": [
    "# Construct the Digraphs\n",
    "\n",
    "We construct the digraphs - this takes several minutes."
   ]
  },
  {
   "cell_type": "code",
   "execution_count": 6,
   "id": "1aa069d8",
   "metadata": {},
   "outputs": [
    {
     "name": "stderr",
     "output_type": "stream",
     "text": [
      "100%|███████████████████████████████████████| 1560/1560 [03:50<00:00,  6.76it/s]\n"
     ]
    }
   ],
   "source": [
    "data_digraphs = construct_list_of_digraphs(data)"
   ]
  },
  {
   "cell_type": "markdown",
   "id": "75242613",
   "metadata": {},
   "source": [
    "There are $1,560$ such debates, which is consistent with the previous notebook."
   ]
  },
  {
   "cell_type": "code",
   "execution_count": 7,
   "id": "a97fd0bf",
   "metadata": {},
   "outputs": [
    {
     "data": {
      "text/plain": [
       "1560"
      ]
     },
     "execution_count": 7,
     "metadata": {},
     "output_type": "execute_result"
    }
   ],
   "source": [
    "len(data_digraphs)"
   ]
  },
  {
   "cell_type": "markdown",
   "id": "da7a8f26",
   "metadata": {},
   "source": [
    "# Pickle the Digraphs\n",
    "\n",
    "We first create a folder called `serialisedGraphs` in this directory (by hand), then we pickle the digraphs using a depreciated function in `nx`. This also takes several minutes."
   ]
  },
  {
   "cell_type": "code",
   "execution_count": 8,
   "id": "2546ae16",
   "metadata": {},
   "outputs": [
    {
     "name": "stderr",
     "output_type": "stream",
     "text": [
      "100%|███████████████████████████████████████| 1560/1560 [02:03<00:00, 12.64it/s]\n"
     ]
    }
   ],
   "source": [
    "# progress bar\n",
    "for index, digraph in tqdm(data_digraphs):\n",
    "    filepath = './serialisedGraphs/' + str(index) + '.pkl'\n",
    "    nx.write_gpickle(digraph, filepath)"
   ]
  },
  {
   "cell_type": "markdown",
   "id": "10d8267d",
   "metadata": {},
   "source": [
    "The result is a folder of $1,560$ pickled directed graphs of Kialo debates, each preserving all node and edge attributes.\n",
    "\n",
    "**N.B.** The main difference between these pickled graphs and those provided by the data link from Step 1 in the Introduction above is that the five Kialo vote categories were initially represented as a list of five integers, but the pickled graphs here has separated that list of five integers into five distinct graph attributes, each of a single integer. This was mainly to avoid any complex data types (e.g. a list, which is more complex than an integer) appearing in the `.csv` file."
   ]
  },
  {
   "cell_type": "markdown",
   "id": "6225319c",
   "metadata": {},
   "source": [
    "# Conclusion\n",
    "\n",
    "In this short notebook, we have taken the `.csv` output of the previous notebook, formed it into a list of NetworkX digraphs (under version `2.x`), preserving all node and edge attributes, and repickled them into a list of `.pkl` files. The purpose is to provide a set of digraphs compatible with NetworkX `2.x`, for further downstream tasks."
   ]
  },
  {
   "cell_type": "code",
   "execution_count": 9,
   "id": "38dede64",
   "metadata": {},
   "outputs": [
    {
     "data": {
      "text/plain": [
       "'Notebook done in 0:05:59.416048.'"
      ]
     },
     "execution_count": 9,
     "metadata": {},
     "output_type": "execute_result"
    }
   ],
   "source": [
    "\"Notebook done in \" + str(timedelta(seconds = time.time() - START)) + '.'"
   ]
  }
 ],
 "metadata": {
  "kernelspec": {
   "display_name": "Python 3 (ipykernel)",
   "language": "python",
   "name": "python3"
  },
  "language_info": {
   "codemirror_mode": {
    "name": "ipython",
    "version": 3
   },
   "file_extension": ".py",
   "mimetype": "text/x-python",
   "name": "python",
   "nbconvert_exporter": "python",
   "pygments_lexer": "ipython3",
   "version": "3.9.7"
  }
 },
 "nbformat": 4,
 "nbformat_minor": 5
}
